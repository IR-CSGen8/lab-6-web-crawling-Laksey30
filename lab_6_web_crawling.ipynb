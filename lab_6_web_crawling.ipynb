{
 "cells": [
  {
   "cell_type": "code",
   "execution_count": 1,
   "id": "d05f4286",
   "metadata": {},
   "outputs": [
    {
     "name": "stdout",
     "output_type": "stream",
     "text": [
      "Requirement already satisfied: holoviews in c:\\python311\\lib\\site-packages (1.18.0)\n",
      "Requirement already satisfied: param<3.0,>=1.12.0 in c:\\python311\\lib\\site-packages (from holoviews) (2.0.0)\n",
      "Requirement already satisfied: numpy>=1.0 in c:\\python311\\lib\\site-packages (from holoviews) (1.25.2)\n",
      "Requirement already satisfied: pyviz-comms>=0.7.4 in c:\\python311\\lib\\site-packages (from holoviews) (3.0.0)\n",
      "Requirement already satisfied: panel>=1.0 in c:\\python311\\lib\\site-packages (from holoviews) (1.3.0)\n",
      "Requirement already satisfied: colorcet in c:\\python311\\lib\\site-packages (from holoviews) (3.0.1)\n",
      "Requirement already satisfied: packaging in c:\\python311\\lib\\site-packages (from holoviews) (23.1)\n",
      "Requirement already satisfied: pandas>=0.20.0 in c:\\python311\\lib\\site-packages (from holoviews) (2.1.1)\n",
      "Requirement already satisfied: python-dateutil>=2.8.2 in c:\\python311\\lib\\site-packages (from pandas>=0.20.0->holoviews) (2.8.2)\n",
      "Requirement already satisfied: pytz>=2020.1 in c:\\python311\\lib\\site-packages (from pandas>=0.20.0->holoviews) (2023.3)\n",
      "Requirement already satisfied: tzdata>=2022.1 in c:\\python311\\lib\\site-packages (from pandas>=0.20.0->holoviews) (2023.3)\n",
      "Requirement already satisfied: bokeh<3.4.0,>=3.2.0 in c:\\python311\\lib\\site-packages (from panel>=1.0->holoviews) (3.3.0)\n",
      "Requirement already satisfied: xyzservices>=2021.09.1 in c:\\python311\\lib\\site-packages (from panel>=1.0->holoviews) (2023.10.0)\n",
      "Requirement already satisfied: markdown in c:\\python311\\lib\\site-packages (from panel>=1.0->holoviews) (3.5)\n",
      "Requirement already satisfied: markdown-it-py in c:\\python311\\lib\\site-packages (from panel>=1.0->holoviews) (3.0.0)\n",
      "Requirement already satisfied: linkify-it-py in c:\\python311\\lib\\site-packages (from panel>=1.0->holoviews) (2.0.2)\n",
      "Requirement already satisfied: mdit-py-plugins in c:\\python311\\lib\\site-packages (from panel>=1.0->holoviews) (0.4.0)\n",
      "Requirement already satisfied: requests in c:\\python311\\lib\\site-packages (from panel>=1.0->holoviews) (2.31.0)\n",
      "Requirement already satisfied: tqdm>=4.48.0 in c:\\python311\\lib\\site-packages (from panel>=1.0->holoviews) (4.66.1)\n",
      "Requirement already satisfied: bleach in c:\\python311\\lib\\site-packages (from panel>=1.0->holoviews) (6.0.0)\n",
      "Requirement already satisfied: typing-extensions in c:\\python311\\lib\\site-packages (from panel>=1.0->holoviews) (4.8.0)\n",
      "Requirement already satisfied: pyct>=0.4.4 in c:\\python311\\lib\\site-packages (from colorcet->holoviews) (0.5.0)\n",
      "Requirement already satisfied: Jinja2>=2.9 in c:\\python311\\lib\\site-packages (from bokeh<3.4.0,>=3.2.0->panel>=1.0->holoviews) (3.1.2)\n",
      "Requirement already satisfied: contourpy>=1 in c:\\python311\\lib\\site-packages (from bokeh<3.4.0,>=3.2.0->panel>=1.0->holoviews) (1.1.1)\n",
      "Requirement already satisfied: pillow>=7.1.0 in c:\\python311\\lib\\site-packages (from bokeh<3.4.0,>=3.2.0->panel>=1.0->holoviews) (10.1.0)\n",
      "Requirement already satisfied: PyYAML>=3.10 in c:\\python311\\lib\\site-packages (from bokeh<3.4.0,>=3.2.0->panel>=1.0->holoviews) (6.0.1)\n",
      "Requirement already satisfied: tornado>=5.1 in c:\\python311\\lib\\site-packages (from bokeh<3.4.0,>=3.2.0->panel>=1.0->holoviews) (6.3.2)\n",
      "Requirement already satisfied: six>=1.5 in c:\\python311\\lib\\site-packages (from python-dateutil>=2.8.2->pandas>=0.20.0->holoviews) (1.16.0)\n",
      "Requirement already satisfied: colorama in c:\\python311\\lib\\site-packages (from tqdm>=4.48.0->panel>=1.0->holoviews) (0.4.6)\n",
      "Requirement already satisfied: webencodings in c:\\python311\\lib\\site-packages (from bleach->panel>=1.0->holoviews) (0.5.1)\n",
      "Requirement already satisfied: uc-micro-py in c:\\python311\\lib\\site-packages (from linkify-it-py->panel>=1.0->holoviews) (1.0.2)\n",
      "Requirement already satisfied: mdurl~=0.1 in c:\\python311\\lib\\site-packages (from markdown-it-py->panel>=1.0->holoviews) (0.1.2)\n",
      "Requirement already satisfied: charset-normalizer<4,>=2 in c:\\python311\\lib\\site-packages (from requests->panel>=1.0->holoviews) (3.2.0)\n",
      "Requirement already satisfied: idna<4,>=2.5 in c:\\python311\\lib\\site-packages (from requests->panel>=1.0->holoviews) (3.4)\n",
      "Requirement already satisfied: urllib3<3,>=1.21.1 in c:\\python311\\lib\\site-packages (from requests->panel>=1.0->holoviews) (2.0.4)\n",
      "Requirement already satisfied: certifi>=2017.4.17 in c:\\python311\\lib\\site-packages (from requests->panel>=1.0->holoviews) (2023.7.22)\n",
      "Requirement already satisfied: MarkupSafe>=2.0 in c:\\python311\\lib\\site-packages (from Jinja2>=2.9->bokeh<3.4.0,>=3.2.0->panel>=1.0->holoviews) (2.1.3)\n"
     ]
    }
   ],
   "source": [
    "!pip install holoviews"
   ]
  },
  {
   "cell_type": "code",
   "execution_count": 2,
   "id": "1185aef4",
   "metadata": {},
   "outputs": [
    {
     "name": "stdout",
     "output_type": "stream",
     "text": [
      "Requirement already satisfied: networkx in c:\\python311\\lib\\site-packages (3.2)\n",
      "Note: you may need to restart the kernel to use updated packages.\n"
     ]
    }
   ],
   "source": [
    "pip install networkx"
   ]
  },
  {
   "cell_type": "code",
   "execution_count": 3,
   "id": "adcd55ac",
   "metadata": {},
   "outputs": [],
   "source": [
    "import re\n",
    "import requests\n",
    "import pandas as pd\n",
    "import holoviews as hv\n",
    "import networkx as nx\n",
    "from holoviews import opts\n",
    "from bs4 import BeautifulSoup\n",
    "from urllib.request import urljoin\n"
   ]
  },
  {
   "cell_type": "code",
   "execution_count": null,
   "id": "40bc10bd",
   "metadata": {},
   "outputs": [],
   "source": [
    "sites = \"https://www.google.com/\" #@param {type:\"string\"}\n",
    "depth = 3 #@param {type:\"slider\", min:1, max:10, step:1}\n",
    "max_child = 10 #@param {type:\"slider\", min:1, max:100, step:1}\n",
    "\n",
    "    \n",
    "def crawl(sites, depth=1, current_depth=0, max_child=10):\n",
    "    ...\n",
    "    get_links = lambda site: pd.Series(urljoin(site, tag.get('href')) for tag in BeautifulSoup(requests.get(site).text).find_all('a')).drop_duplicates().head(max_child)\n",
    "\n",
    "    sites = pd.concat([sites, pd.DataFrame([{'link': link, 'parent': site, 'depth': current_depth + 1}\n",
    "                                               for site in sites[sites.depth == current_depth].link\n",
    "                                               for link in get_links(site)]).drop_duplicates('link')], ignore_index=True)\n",
    "    if depth > current_depth + 1:\n",
    "        return crawl(sites, depth=depth, current_depth=current_depth+1, max_child=max_child)\n",
    "    else:\n",
    "    \n",
    "        return sites\n",
    "\n",
    "\n",
    "result = crawl(sites=pd.DataFrame([{'link': site, 'depth': 0, 'parent': site} for site in sites.split()]), \n",
    "               max_child=max_child,\n",
    "               depth=depth)"
   ]
  },
  {
   "cell_type": "code",
   "execution_count": 5,
   "id": "6c7ceb7a",
   "metadata": {},
   "outputs": [
    {
     "data": {
      "text/html": [
       "<div>\n",
       "<style scoped>\n",
       "    .dataframe tbody tr th:only-of-type {\n",
       "        vertical-align: middle;\n",
       "    }\n",
       "\n",
       "    .dataframe tbody tr th {\n",
       "        vertical-align: top;\n",
       "    }\n",
       "\n",
       "    .dataframe thead th {\n",
       "        text-align: right;\n",
       "    }\n",
       "</style>\n",
       "<table border=\"1\" class=\"dataframe\">\n",
       "  <thead>\n",
       "    <tr style=\"text-align: right;\">\n",
       "      <th></th>\n",
       "      <th>link</th>\n",
       "      <th>depth</th>\n",
       "      <th>parent</th>\n",
       "    </tr>\n",
       "  </thead>\n",
       "  <tbody>\n",
       "    <tr>\n",
       "      <th>0</th>\n",
       "      <td>https://www.google.com/</td>\n",
       "      <td>0</td>\n",
       "      <td>https://www.google.com/</td>\n",
       "    </tr>\n",
       "    <tr>\n",
       "      <th>1</th>\n",
       "      <td>https://www.google.com/imghp?hl=km&amp;tab=wi</td>\n",
       "      <td>1</td>\n",
       "      <td>https://www.google.com/</td>\n",
       "    </tr>\n",
       "    <tr>\n",
       "      <th>2</th>\n",
       "      <td>https://maps.google.com.kh/maps?hl=km&amp;tab=wl</td>\n",
       "      <td>1</td>\n",
       "      <td>https://www.google.com/</td>\n",
       "    </tr>\n",
       "    <tr>\n",
       "      <th>3</th>\n",
       "      <td>https://play.google.com/?hl=km&amp;tab=w8</td>\n",
       "      <td>1</td>\n",
       "      <td>https://www.google.com/</td>\n",
       "    </tr>\n",
       "    <tr>\n",
       "      <th>4</th>\n",
       "      <td>https://news.google.com/?tab=wn</td>\n",
       "      <td>1</td>\n",
       "      <td>https://www.google.com/</td>\n",
       "    </tr>\n",
       "    <tr>\n",
       "      <th>...</th>\n",
       "      <td>...</td>\n",
       "      <td>...</td>\n",
       "      <td>...</td>\n",
       "    </tr>\n",
       "    <tr>\n",
       "      <th>281</th>\n",
       "      <td>https://support.google.com/websearch/?hl=en</td>\n",
       "      <td>3</td>\n",
       "      <td>https://support.google.com/websearch/?p=displa...</td>\n",
       "    </tr>\n",
       "    <tr>\n",
       "      <th>282</th>\n",
       "      <td>https://support.google.com/websearch/community...</td>\n",
       "      <td>3</td>\n",
       "      <td>https://support.google.com/websearch/?p=displa...</td>\n",
       "    </tr>\n",
       "    <tr>\n",
       "      <th>283</th>\n",
       "      <td>https://support.google.com/websearch/?p=result...</td>\n",
       "      <td>3</td>\n",
       "      <td>https://support.google.com/websearch/?p=result...</td>\n",
       "    </tr>\n",
       "    <tr>\n",
       "      <th>284</th>\n",
       "      <td>https://accounts.google.com/ServiceLogin?hl=en...</td>\n",
       "      <td>3</td>\n",
       "      <td>https://support.google.com/websearch/?p=result...</td>\n",
       "    </tr>\n",
       "    <tr>\n",
       "      <th>285</th>\n",
       "      <td>https://support.google.com/websearch/community...</td>\n",
       "      <td>3</td>\n",
       "      <td>https://support.google.com/websearch/?p=result...</td>\n",
       "    </tr>\n",
       "  </tbody>\n",
       "</table>\n",
       "<p>286 rows × 3 columns</p>\n",
       "</div>"
      ],
      "text/plain": [
       "                                                  link  depth  \\\n",
       "0                              https://www.google.com/      0   \n",
       "1            https://www.google.com/imghp?hl=km&tab=wi      1   \n",
       "2         https://maps.google.com.kh/maps?hl=km&tab=wl      1   \n",
       "3                https://play.google.com/?hl=km&tab=w8      1   \n",
       "4                      https://news.google.com/?tab=wn      1   \n",
       "..                                                 ...    ...   \n",
       "281        https://support.google.com/websearch/?hl=en      3   \n",
       "282  https://support.google.com/websearch/community...      3   \n",
       "283  https://support.google.com/websearch/?p=result...      3   \n",
       "284  https://accounts.google.com/ServiceLogin?hl=en...      3   \n",
       "285  https://support.google.com/websearch/community...      3   \n",
       "\n",
       "                                                parent  \n",
       "0                              https://www.google.com/  \n",
       "1                              https://www.google.com/  \n",
       "2                              https://www.google.com/  \n",
       "3                              https://www.google.com/  \n",
       "4                              https://www.google.com/  \n",
       "..                                                 ...  \n",
       "281  https://support.google.com/websearch/?p=displa...  \n",
       "282  https://support.google.com/websearch/?p=displa...  \n",
       "283  https://support.google.com/websearch/?p=result...  \n",
       "284  https://support.google.com/websearch/?p=result...  \n",
       "285  https://support.google.com/websearch/?p=result...  \n",
       "\n",
       "[286 rows x 3 columns]"
      ]
     },
     "execution_count": 5,
     "metadata": {},
     "output_type": "execute_result"
    }
   ],
   "source": [
    "result"
   ]
  },
  {
   "cell_type": "code",
   "execution_count": 6,
   "id": "d5785be6",
   "metadata": {},
   "outputs": [],
   "source": [
    "# this is just the example scenarios\n",
    "# from the results you can see the links \"https://support.google.com/websearch\", \"https://play.google.com\"\n",
    "# it could be the all services google site"
   ]
  },
  {
   "cell_type": "code",
   "execution_count": null,
   "id": "a41cc653",
   "metadata": {},
   "outputs": [],
   "source": [
    "text_series = result['link']\n",
    "# Regular expression pattern to match Google service URLs\n",
    "google_services_pattern = r'https://[^\\s]+google\\.com'\n",
    "google_services = []\n",
    "for text in text_series:\n",
    "    matches = re.findall(google_services_pattern, str(text))  #a Convert to string if not already\n",
    "    google_services.extend(matches)\n",
    "for service in google_services:\n",
    "    print(service)"
   ]
  },
  {
   "cell_type": "code",
   "execution_count": 1,
   "id": "400e50d1",
   "metadata": {},
   "outputs": [
    {
     "ename": "NameError",
     "evalue": "name 'services' is not defined",
     "output_type": "error",
     "traceback": [
      "\u001b[1;31m---------------------------------------------------------------------------\u001b[0m",
      "\u001b[1;31mNameError\u001b[0m                                 Traceback (most recent call last)",
      "Cell \u001b[1;32mIn[1], line 3\u001b[0m\n\u001b[0;32m      1\u001b[0m \u001b[38;5;28;01mimport\u001b[39;00m \u001b[38;5;21;01mmatplotlib\u001b[39;00m\u001b[38;5;21;01m.\u001b[39;00m\u001b[38;5;21;01mpyplot\u001b[39;00m \u001b[38;5;28;01mas\u001b[39;00m \u001b[38;5;21;01mplt\u001b[39;00m\n\u001b[1;32m----> 3\u001b[0m num_services \u001b[38;5;241m=\u001b[39m \u001b[38;5;28mlen\u001b[39m(\u001b[43mservices\u001b[49m)\n\u001b[0;32m      5\u001b[0m \u001b[38;5;66;03m# Create a bar chart\u001b[39;00m\n\u001b[0;32m      6\u001b[0m plt\u001b[38;5;241m.\u001b[39mbar(\u001b[38;5;28mrange\u001b[39m(num_services), height\u001b[38;5;241m=\u001b[39m\u001b[38;5;241m1\u001b[39m)\n",
      "\u001b[1;31mNameError\u001b[0m: name 'services' is not defined"
     ]
    }
   ],
   "source": [
    "%matplotlib inline  \n",
    "# Add this line to set the backend to inline\n",
    "\n",
    "import matplotlib.pyplot as plt\n",
    "\n",
    "# Plot the occurrences of Google services\n",
    "unique_services = list(set(google_services))\n",
    "service_counts = [google_services.count(service) for service in unique_services]\n",
    "\n",
    "plt.figure(figsize=(100, 70))\n",
    "plt.bar(unique_services, service_counts, color='pink')\n",
    "plt.xlabel('Google Services')\n",
    "plt.ylabel('Count')\n",
    "plt.title('Occurrences of Google Services')\n",
    "plt.xticks(rotation=45)\n",
    "plt.show()\n"
   ]
  },
  {
   "cell_type": "code",
   "execution_count": null,
   "id": "703fe53e",
   "metadata": {},
   "outputs": [],
   "source": []
  },
  {
   "cell_type": "code",
   "execution_count": null,
   "id": "bbe5e8a1",
   "metadata": {},
   "outputs": [],
   "source": []
  },
  {
   "cell_type": "code",
   "execution_count": null,
   "id": "816d03fc",
   "metadata": {},
   "outputs": [],
   "source": []
  },
  {
   "cell_type": "code",
   "execution_count": null,
   "id": "d706ba59",
   "metadata": {},
   "outputs": [],
   "source": []
  },
  {
   "cell_type": "code",
   "execution_count": null,
   "id": "5fe78ac9",
   "metadata": {},
   "outputs": [],
   "source": []
  },
  {
   "cell_type": "code",
   "execution_count": null,
   "id": "59fd37a8",
   "metadata": {},
   "outputs": [],
   "source": []
  }
 ],
 "metadata": {
  "kernelspec": {
   "display_name": "Python 3 (ipykernel)",
   "language": "python",
   "name": "python3"
  },
  "language_info": {
   "codemirror_mode": {
    "name": "ipython",
    "version": 3
   },
   "file_extension": ".py",
   "mimetype": "text/x-python",
   "name": "python",
   "nbconvert_exporter": "python",
   "pygments_lexer": "ipython3",
   "version": "3.11.4"
  }
 },
 "nbformat": 4,
 "nbformat_minor": 5
}
